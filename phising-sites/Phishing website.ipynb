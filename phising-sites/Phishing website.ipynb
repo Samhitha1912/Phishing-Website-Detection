{
 "cells": [
  {
   "cell_type": "code",
   "execution_count": 1,
   "metadata": {
    "colab": {
     "base_uri": "https://localhost:8080/",
     "height": 345
    },
    "executionInfo": {
     "elapsed": 569,
     "status": "error",
     "timestamp": 1652507380226,
     "user": {
      "displayName": "SAMHITHA S",
      "userId": "00353847386873414768"
     },
     "user_tz": -330
    },
    "id": "qjnrXuCJNlm7",
    "outputId": "7ebc4181-d154-4073-f70c-b89db32e1ddd"
   },
   "outputs": [
    {
     "ename": "SyntaxError",
     "evalue": "EOL while scanning string literal (4042659040.py, line 1)",
     "output_type": "error",
     "traceback": [
      "\u001b[0;36m  Input \u001b[0;32mIn [1]\u001b[0;36m\u001b[0m\n\u001b[0;31m    import pandas as pd  \"\u001b[0m\n\u001b[0m                          ^\u001b[0m\n\u001b[0;31mSyntaxError\u001b[0m\u001b[0;31m:\u001b[0m EOL while scanning string literal\n"
     ]
    }
   ],
   "source": [
    "import pandas as pd  \"\n",
    "df=pd.read_csv('dataset.csv')"
   ]
  },
  {
   "cell_type": "code",
   "execution_count": null,
   "metadata": {
    "executionInfo": {
     "elapsed": 11,
     "status": "ok",
     "timestamp": 1652507182222,
     "user": {
      "displayName": "SAMHITHA S",
      "userId": "00353847386873414768"
     },
     "user_tz": -330
    },
    "id": "4CTtzkJrN0kd"
   },
   "outputs": [],
   "source": [
    "import numpy as np # linear algebra\n",
    "import pandas as pd # data processing, CSV file I/O (e.g. pd.read_csv)\n",
    "from time import perf_counter\n",
    "# Input data files are available in the read-only \"../input/\" directory\n",
    "# For example, running this (by clicking run or pressing Shift+Enter) will list all files under the input directory\n",
    "import matplotlib.pyplot as plt\n",
    "import os\n",
    "for dirname, _, filenames in os.walk('/kaggle/input'):\n",
    "    for filename in filenames:\n",
    "        print(os.path.join(dirname, filename))\n",
    "from IPython.display import Markdown, display\n",
    "def printmd(string):\n",
    "    # Print with Markdowns    \n",
    "    display(Markdown(string))"
   ]
  },
  {
   "cell_type": "code",
   "execution_count": null,
   "metadata": {
    "colab": {
     "base_uri": "https://localhost:8080/",
     "height": 237
    },
    "executionInfo": {
     "elapsed": 12,
     "status": "ok",
     "timestamp": 1652507182223,
     "user": {
      "displayName": "SAMHITHA S",
      "userId": "00353847386873414768"
     },
     "user_tz": -330
    },
    "id": "pueCr-6XN1WA",
    "outputId": "8b3da2d6-9ee1-499b-ec2d-a401a8394e3e"
   },
   "outputs": [],
   "source": [
    "df.head(3)"
   ]
  },
  {
   "cell_type": "code",
   "execution_count": null,
   "metadata": {
    "colab": {
     "base_uri": "https://localhost:8080/"
    },
    "executionInfo": {
     "elapsed": 10,
     "status": "ok",
     "timestamp": 1652507182223,
     "user": {
      "displayName": "SAMHITHA S",
      "userId": "00353847386873414768"
     },
     "user_tz": -330
    },
    "id": "3dnV25CBN8Bv",
    "outputId": "7a6b02cd-7f72-4090-9ae1-e6fd49ac2cbc"
   },
   "outputs": [],
   "source": [
    "df.shape"
   ]
  },
  {
   "cell_type": "code",
   "execution_count": null,
   "metadata": {
    "colab": {
     "base_uri": "https://localhost:8080/",
     "height": 351
    },
    "executionInfo": {
     "elapsed": 1128,
     "status": "ok",
     "timestamp": 1652507183343,
     "user": {
      "displayName": "SAMHITHA S",
      "userId": "00353847386873414768"
     },
     "user_tz": -330
    },
    "id": "dp3iRgMoOCiB",
    "outputId": "c9a9d9c3-62e0-4d0b-e170-f26e572b1a2a"
   },
   "outputs": [],
   "source": [
    "import seaborn as sns\n",
    "sns.countplot(df['Result'])"
   ]
  },
  {
   "cell_type": "code",
   "execution_count": null,
   "metadata": {
    "colab": {
     "base_uri": "https://localhost:8080/"
    },
    "executionInfo": {
     "elapsed": 12,
     "status": "ok",
     "timestamp": 1652507183344,
     "user": {
      "displayName": "SAMHITHA S",
      "userId": "00353847386873414768"
     },
     "user_tz": -330
    },
    "id": "xgwOaCqAODWV",
    "outputId": "b118feaa-c484-4ad5-fe13-6bee03028d9b"
   },
   "outputs": [],
   "source": [
    "col=df.columns\n",
    "for i in col:\n",
    "     if  i!='index':\n",
    "        print(i,df[i].unique())"
   ]
  },
  {
   "cell_type": "code",
   "execution_count": null,
   "metadata": {
    "executionInfo": {
     "elapsed": 9,
     "status": "ok",
     "timestamp": 1652507183344,
     "user": {
      "displayName": "SAMHITHA S",
      "userId": "00353847386873414768"
     },
     "user_tz": -330
    },
    "id": "K1YGIKT6OGU2"
   },
   "outputs": [],
   "source": [
    "df['Result']=df['Result'].replace(-1,0)"
   ]
  },
  {
   "cell_type": "code",
   "execution_count": null,
   "metadata": {
    "colab": {
     "base_uri": "https://localhost:8080/"
    },
    "executionInfo": {
     "elapsed": 10,
     "status": "ok",
     "timestamp": 1652507183344,
     "user": {
      "displayName": "SAMHITHA S",
      "userId": "00353847386873414768"
     },
     "user_tz": -330
    },
    "id": "U5AZkbk7OJnN",
    "outputId": "99eae32f-721a-4ffb-9a94-4fb11193a4aa"
   },
   "outputs": [],
   "source": [
    "print(df.corr()['Result'].sort_values())    "
   ]
  },
  {
   "cell_type": "code",
   "execution_count": null,
   "metadata": {
    "colab": {
     "base_uri": "https://localhost:8080/",
     "height": 638
    },
    "executionInfo": {
     "elapsed": 4188,
     "status": "ok",
     "timestamp": 1652507187526,
     "user": {
      "displayName": "SAMHITHA S",
      "userId": "00353847386873414768"
     },
     "user_tz": -330
    },
    "id": "HBb7FyXaOMcD",
    "outputId": "952c4d84-3577-46e0-b266-0e2c45497753"
   },
   "outputs": [],
   "source": [
    "plt.figure(figsize=(8, 8))\n",
    "sns.heatmap(df.corr(), linewidths=.5)"
   ]
  },
  {
   "cell_type": "code",
   "execution_count": null,
   "metadata": {
    "executionInfo": {
     "elapsed": 27,
     "status": "ok",
     "timestamp": 1652507187527,
     "user": {
      "displayName": "SAMHITHA S",
      "userId": "00353847386873414768"
     },
     "user_tz": -330
    },
    "id": "3ot2o3gROPeN"
   },
   "outputs": [],
   "source": [
    "from sklearn.model_selection import train_test_split,cross_val_score\n",
    "\n",
    "X= df.drop(columns='Result')\n",
    "Y=df['Result']\n",
    "\n",
    "train_X,test_X,train_Y,test_Y=train_test_split(X,Y,test_size=0.3,random_state=2)\n",
    "Accuracy=[]\n",
    "Duration=[]"
   ]
  },
  {
   "cell_type": "code",
   "execution_count": null,
   "metadata": {
    "colab": {
     "base_uri": "https://localhost:8080/"
    },
    "executionInfo": {
     "elapsed": 24,
     "status": "ok",
     "timestamp": 1652507187528,
     "user": {
      "displayName": "SAMHITHA S",
      "userId": "00353847386873414768"
     },
     "user_tz": -330
    },
    "id": "UZfKRTZFOSc8",
    "outputId": "29fec6c2-c7e5-4154-9020-ff7831152590"
   },
   "outputs": [],
   "source": [
    "from sklearn.linear_model import LogisticRegression\n",
    "from sklearn.metrics import accuracy_score\n",
    "start = perf_counter()\n",
    "logreg=LogisticRegression(solver='liblinear')\n",
    "logreg=logreg.fit(train_X,train_Y)\n",
    "prediction=logreg.predict(test_X)\n",
    "accuracy_score(prediction,test_Y)\n",
    "Accuracy.append(accuracy_score(prediction,test_Y))\n",
    "print(Accuracy[0])\n",
    "\n",
    "duration = perf_counter() - start\n",
    "duration = round(duration,2)\n",
    "Duration.append(duration)\n",
    "print(Duration[0])"
   ]
  },
  {
   "cell_type": "code",
   "execution_count": null,
   "metadata": {
    "colab": {
     "base_uri": "https://localhost:8080/"
    },
    "executionInfo": {
     "elapsed": 17,
     "status": "ok",
     "timestamp": 1652507187529,
     "user": {
      "displayName": "SAMHITHA S",
      "userId": "00353847386873414768"
     },
     "user_tz": -330
    },
    "id": "f5Wbq0T6OamG",
    "outputId": "c9e0227b-8536-4840-b1a9-46f719ce18d5"
   },
   "outputs": [],
   "source": [
    "from sklearn.naive_bayes import BernoulliNB\n",
    "from sklearn.metrics import accuracy_score\n",
    "start = perf_counter()\n",
    "clf = BernoulliNB()\n",
    "clf.fit(train_X, train_Y)\n",
    "naive_predict=clf.predict(test_X)\n",
    "accuracy_score(naive_predict,test_Y)\n",
    "Accuracy.append(accuracy_score(naive_predict,test_Y))\n",
    "print(Accuracy[1])\n",
    "\n",
    "duration = perf_counter() - start\n",
    "duration = round(duration,2)\n",
    "Duration.append(duration)\n",
    "print(Duration[1])"
   ]
  },
  {
   "cell_type": "code",
   "execution_count": null,
   "metadata": {
    "colab": {
     "base_uri": "https://localhost:8080/"
    },
    "executionInfo": {
     "elapsed": 1549,
     "status": "ok",
     "timestamp": 1652507189067,
     "user": {
      "displayName": "SAMHITHA S",
      "userId": "00353847386873414768"
     },
     "user_tz": -330
    },
    "id": "LhqVvyBOOd8e",
    "outputId": "0dc4d57b-969b-4441-f1e0-3c1baef590b7"
   },
   "outputs": [],
   "source": [
    "from sklearn.ensemble import RandomForestClassifier\n",
    "start = perf_counter()\n",
    "forest_clf = RandomForestClassifier(max_depth=10, random_state=0)\n",
    "forest_clf.fit(train_X,train_Y)\n",
    "ran_pred=forest_clf.predict(test_X)\n",
    "accuracy_score(ran_pred,test_Y)\n",
    "Accuracy.append(accuracy_score(ran_pred,test_Y))\n",
    "print(Accuracy[2])\n",
    "\n",
    "duration = perf_counter() - start\n",
    "duration = round(duration,2)\n",
    "Duration.append(duration)\n",
    "print(Duration[2])"
   ]
  },
  {
   "cell_type": "code",
   "execution_count": null,
   "metadata": {
    "colab": {
     "base_uri": "https://localhost:8080/"
    },
    "executionInfo": {
     "elapsed": 13,
     "status": "ok",
     "timestamp": 1652507189068,
     "user": {
      "displayName": "SAMHITHA S",
      "userId": "00353847386873414768"
     },
     "user_tz": -330
    },
    "id": "R8ourxX_OhD-",
    "outputId": "44505b87-51fc-49de-83ed-ccf9812b13f1"
   },
   "outputs": [],
   "source": [
    "from sklearn.tree import DecisionTreeClassifier\n",
    "start = perf_counter()\n",
    "tree = DecisionTreeClassifier(criterion='entropy') # function to measure the quality of split \n",
    "tree.fit(train_X,train_Y)\n",
    "score = cross_val_score(tree, X, Y, cv= 10) \n",
    "print(score)\n",
    "print(score.mean())\n",
    "y_pred = tree.predict(test_X)\n",
    "Accuracy.append(accuracy_score(y_pred,test_Y))\n",
    "print(Accuracy[3])\n",
    "\n",
    "duration = perf_counter() - start\n",
    "duration = round(duration,2)\n",
    "Duration.append(duration)\n",
    "print(Duration[3])"
   ]
  },
  {
   "cell_type": "code",
   "execution_count": null,
   "metadata": {
    "colab": {
     "base_uri": "https://localhost:8080/",
     "height": 175
    },
    "executionInfo": {
     "elapsed": 11,
     "status": "ok",
     "timestamp": 1652507189069,
     "user": {
      "displayName": "SAMHITHA S",
      "userId": "00353847386873414768"
     },
     "user_tz": -330
    },
    "id": "9kG580_qOldG",
    "outputId": "1c69303b-1787-4717-ffc1-563ad56c4312"
   },
   "outputs": [],
   "source": [
    "model=[\"LogisticRegression\", \"BernoulliNB\",\"RandomForestClassifier\", \"DecisionTreeClassifier\"]\n",
    "models_acc = []\n",
    "for i in range(0,4):\n",
    "    models_acc.append([model[i],Accuracy[i],Duration[i]])\n",
    "df_acc = pd.DataFrame(models_acc)\n",
    "df_acc.columns = ['Model', 'Accuracy', 'Training time (sec)']\n",
    "df_acc.sort_values(by = 'Accuracy', ascending = False, inplace=True)\n",
    "df_acc.reset_index(drop = True, inplace=True)\n",
    "df_acc"
   ]
  },
  {
   "cell_type": "code",
   "execution_count": null,
   "metadata": {
    "colab": {
     "base_uri": "https://localhost:8080/",
     "height": 369
    },
    "executionInfo": {
     "elapsed": 510,
     "status": "ok",
     "timestamp": 1652507189570,
     "user": {
      "displayName": "SAMHITHA S",
      "userId": "00353847386873414768"
     },
     "user_tz": -330
    },
    "id": "kVccrdvwOon6",
    "outputId": "e12e6f8e-1a0e-4725-e0a5-2e22e7877792"
   },
   "outputs": [],
   "source": [
    "plt.figure(figsize = (15,5))\n",
    "sns.barplot(x = 'Model', y = 'Accuracy', data = df_acc)\n",
    "plt.title('Accuracy on the test set\\n(the Y-Axis is between 0.8 and 1.0)', fontsize = 15)\n",
    "plt.ylim(0.85,1)\n",
    "plt.show()"
   ]
  },
  {
   "cell_type": "code",
   "execution_count": null,
   "metadata": {
    "colab": {
     "base_uri": "https://localhost:8080/",
     "height": 352
    },
    "executionInfo": {
     "elapsed": 1623,
     "status": "ok",
     "timestamp": 1652507191185,
     "user": {
      "displayName": "SAMHITHA S",
      "userId": "00353847386873414768"
     },
     "user_tz": -330
    },
    "id": "DDIN3t3yO5Y1",
    "outputId": "eca80534-4a8a-4c1c-fbc2-fd955e47ec06"
   },
   "outputs": [],
   "source": [
    "plt.figure(figsize = (15,5))\n",
    "sns.barplot(x = 'Model', y = 'Training time (sec)', data = df_acc)\n",
    "plt.title('Training time for each model in sec', fontsize = 15)\n",
    "plt.ylim(0,0.7)\n",
    "plt.show()"
   ]
  },
  {
   "cell_type": "code",
   "execution_count": null,
   "metadata": {
    "colab": {
     "base_uri": "https://localhost:8080/",
     "height": 387
    },
    "executionInfo": {
     "elapsed": 29,
     "status": "ok",
     "timestamp": 1652507191186,
     "user": {
      "displayName": "SAMHITHA S",
      "userId": "00353847386873414768"
     },
     "user_tz": -330
    },
    "id": "0SJDWKYaO8eA",
    "outputId": "304cb3b0-ebc4-4a32-80db-1439f9f1525c"
   },
   "outputs": [],
   "source": [
    "tree = DecisionTreeClassifier(criterion='entropy') # function to measure the quality of split \n",
    "tree.fit(train_X,train_Y)\n",
    "y_pred = tree.predict(test_X)\n",
    "def display_result(df):\n",
    "    for i in range (0,20,4):\n",
    "        msg = df.drop(columns='Result')\n",
    "        label = df[\"Result\"].iloc[i]\n",
    "        pred_label = tree.predict(msg)\n",
    "        printmd(f\"**Real: {label}, Predicted: {pred_label[i]}**\")\n",
    "        printmd(\"_______________________________________________________________\")\n",
    "        print()\n",
    "        print()\n",
    "display_result(df)"
   ]
  },
  {
   "cell_type": "code",
   "execution_count": null,
   "metadata": {
    "executionInfo": {
     "elapsed": 27,
     "status": "ok",
     "timestamp": 1652507191187,
     "user": {
      "displayName": "SAMHITHA S",
      "userId": "00353847386873414768"
     },
     "user_tz": -330
    },
    "id": "HgPUNjQahX3j"
   },
   "outputs": [],
   "source": [
    "import pickle\n",
    "pickle_out=open(\"tree.pkl\",\"wb\")\n",
    "pickle.dump(tree,pickle_out)\n",
    "pickle_out.close()"
   ]
  },
  {
   "cell_type": "code",
   "execution_count": null,
   "metadata": {
    "colab": {
     "base_uri": "https://localhost:8080/"
    },
    "executionInfo": {
     "elapsed": 26,
     "status": "ok",
     "timestamp": 1652507191187,
     "user": {
      "displayName": "SAMHITHA S",
      "userId": "00353847386873414768"
     },
     "user_tz": -330
    },
    "id": "mWwUoK8wh0M1",
    "outputId": "9fc49237-c0eb-4c78-f2fe-cfc7ad00384d"
   },
   "outputs": [],
   "source": [
    "tree.predict([[1,1,-1,1,-1,1,-1,-1,1,-1,1,-1,-1,-1,1,-1,1,-1,1,-1,-1,-1,1,1,-1,1,-1,1,-1,-1,-1]])"
   ]
  },
  {
   "cell_type": "code",
   "execution_count": null,
   "metadata": {
    "colab": {
     "base_uri": "https://localhost:8080/",
     "height": 36
    },
    "executionInfo": {
     "elapsed": 23,
     "status": "ok",
     "timestamp": 1652507191188,
     "user": {
      "displayName": "SAMHITHA S",
      "userId": "00353847386873414768"
     },
     "user_tz": -330
    },
    "id": "QbDBnwnsjnb1",
    "outputId": "67c8c7e5-1e90-4454-f282-9b225664d642"
   },
   "outputs": [],
   "source": [
    "import os\n",
    "os.getcwd()"
   ]
  }
 ],
 "metadata": {
  "colab": {
   "authorship_tag": "ABX9TyPFLCc3CRFqcatXVjMoXZg8",
   "collapsed_sections": [],
   "name": "Phishing website.ipynb",
   "provenance": []
  },
  "kernelspec": {
   "display_name": "Python 3 (ipykernel)",
   "language": "python",
   "name": "python3"
  },
  "language_info": {
   "codemirror_mode": {
    "name": "ipython",
    "version": 3
   },
   "file_extension": ".py",
   "mimetype": "text/x-python",
   "name": "python",
   "nbconvert_exporter": "python",
   "pygments_lexer": "ipython3",
   "version": "3.9.7"
  },
  "vscode": {
   "interpreter": {
    "hash": "36cf16204b8548560b1c020c4e8fb5b57f0e4c58016f52f2d4be01e192833930"
   }
  }
 },
 "nbformat": 4,
 "nbformat_minor": 1
}
